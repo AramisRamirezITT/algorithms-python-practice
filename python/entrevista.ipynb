{
 "cells": [
  {
   "cell_type": "code",
   "execution_count": 1,
   "metadata": {},
   "outputs": [
    {
     "name": "stdout",
     "output_type": "stream",
     "text": [
      "4 X 0 = 0\n",
      "4 X 1 = 4\n",
      "4 X 2 = 8\n",
      "4 X 3 = 12\n",
      "4 X 4 = 16\n",
      "4 X 5 = 20\n",
      "4 X 6 = 24\n",
      "4 X 7 = 28\n",
      "4 X 8 = 32\n",
      "4 X 9 = 36\n"
     ]
    }
   ],
   "source": [
    "# 1-10\n",
    "\n",
    "num  = int(input('dame un numero'))\n",
    "\n",
    "for i in range(10):\n",
    "    print(f'{num} X {i} = {num * i}')"
   ]
  },
  {
   "cell_type": "code",
   "execution_count": 22,
   "metadata": {},
   "outputs": [
    {
     "name": "stdout",
     "output_type": "stream",
     "text": [
      "0 *****\n",
      "1 *---*\n",
      "2 *---*\n",
      "3 *---*\n",
      "4 *****\n"
     ]
    }
   ],
   "source": [
    "def cuadrado(num):\n",
    "    for i in range(num):\n",
    "        if i == 0 or (num - 1)== i:\n",
    "            print( str(i) + ' ' + num * '*')\n",
    "        else:\n",
    "            void = num - 2\n",
    "            print( str(i) + ' ' + '*' + ( void * '-') + '*')\n",
    "\n",
    "\n",
    "cuadrado(5)"
   ]
  },
  {
   "cell_type": "markdown",
   "metadata": {},
   "source": [
    "Dado dos numeros devolver el numero de impares que hay entre ellos"
   ]
  },
  {
   "cell_type": "code",
   "execution_count": 34,
   "metadata": {},
   "outputs": [
    {
     "name": "stdout",
     "output_type": "stream",
     "text": [
      "(50, [0, 2, 4, 6, 8, 10, 12, 14, 16, 18, 20, 22, 24, 26, 28, 30, 32, 34, 36, 38, 40, 42, 44, 46, 48, 50, 52, 54, 56, 58, 60, 62, 64, 66, 68, 70, 72, 74, 76, 78, 80, 82, 84, 86, 88, 90, 92, 94, 96, 98])\n"
     ]
    }
   ],
   "source": [
    "def impares(ini, fin):\n",
    "    cont = 0\n",
    "    cont_list = []\n",
    "    for i in range(ini, fin):    \n",
    "        if i % 2 == 0:\n",
    "            cont_list.append(i)\n",
    "            cont += 1\n",
    "\n",
    "    return cont, cont_list\n",
    "\n",
    "            # print(f'{i} => par') \n",
    "        \n",
    "        \n",
    "        \n",
    "        # print(f'{i} => {i % 2}')\n",
    "            \n",
    "\n",
    "print(impares(0, 100))"
   ]
  },
  {
   "cell_type": "markdown",
   "metadata": {},
   "source": [
    "Dado un numero entero inviertelo"
   ]
  },
  {
   "cell_type": "code",
   "execution_count": 4,
   "metadata": {},
   "outputs": [
    {
     "name": "stdout",
     "output_type": "stream",
     "text": [
      "001\n"
     ]
    }
   ],
   "source": [
    "def invertir(num):\n",
    "    num = str(num)\n",
    "    print(num[::-1])\n",
    "\n",
    "invertir(100)"
   ]
  },
  {
   "cell_type": "markdown",
   "metadata": {},
   "source": [
    "Elementos comunes en dos listas "
   ]
  },
  {
   "cell_type": "code",
   "execution_count": 10,
   "metadata": {},
   "outputs": [
    {
     "data": {
      "text/plain": [
       "[[2, 4, 5], 3]"
      ]
     },
     "execution_count": 10,
     "metadata": {},
     "output_type": "execute_result"
    }
   ],
   "source": [
    "def diferencia(list1, list2):\n",
    "    resul = [x for x in list2 if x not in  list1]\n",
    "    return [resul, len(resul)]\n",
    "\n",
    "diferencia([1,3,6,9,12], [1,2,3,4,5])"
   ]
  },
  {
   "cell_type": "markdown",
   "metadata": {},
   "source": [
    "Triangulo "
   ]
  },
  {
   "cell_type": "code",
   "execution_count": 5,
   "metadata": {},
   "outputs": [
    {
     "name": "stdout",
     "output_type": "stream",
     "text": [
      "[-]\n",
      "[-][-]\n",
      "[-][-][-]\n",
      "[-][-][-][-]\n",
      "[-][-][-][-][-]\n",
      "[-][-][-][-][-][-]\n",
      "[-][-][-][-][-][-][-]\n",
      "[-][-][-][-][-][-][-][-]\n",
      "[-][-][-][-][-][-][-][-][-]\n",
      "[-][-][-][-][-][-][-][-][-][-]\n"
     ]
    }
   ],
   "source": [
    "def triangulo(num):\n",
    "    cont = 0\n",
    "    for i in range(num):\n",
    "        cont += 1\n",
    "        print(cont*'[-]')\n",
    "\n",
    "triangulo(10)"
   ]
  },
  {
   "cell_type": "markdown",
   "metadata": {},
   "source": [
    "Arbol de Navidad \n"
   ]
  },
  {
   "cell_type": "code",
   "execution_count": 41,
   "metadata": {},
   "outputs": [
    {
     "name": "stdout",
     "output_type": "stream",
     "text": [
      "0          *\n",
      "1         ***\n",
      "2        *****\n",
      "3       *******\n",
      "4      *********\n",
      "5     ***********\n",
      "6    *************\n",
      "7   ***************\n",
      "8  *****************\n",
      "9 *******************\n",
      "10          **\n",
      "11          **\n",
      "10.0\n"
     ]
    }
   ],
   "source": [
    "\"\"\"\n",
    "0    *     4 1\n",
    "1   ***    3 3\n",
    "2  *****   2 5\n",
    "3 *******  1 7\n",
    "4********* 0 9\n",
    "5    *\n",
    "6    *\n",
    "\n",
    "2n + 1 \n",
    "n = n + 2 \n",
    "\"\"\"\n",
    "def navidad(num):\n",
    "    n = 1\n",
    "    if num % 2 == 0:\n",
    "        tallo = 2 * '*'\n",
    "    else:\n",
    "        tallo =  '*'\n",
    "\n",
    "    for i in range(num + 2):        \n",
    "        if i >= num:            \n",
    "            mid = int((n - 1) / 2)\n",
    "            print( str (i) + mid * ' ' + tallo) \n",
    "        else:        \n",
    "            max = num - i\n",
    "            print( str(i) + (max * ' ' ) + (n * '*'))\n",
    "            n = n + 2 \n",
    "\n",
    "\n",
    "    print((n - 1) / 2)\n",
    "\n",
    "\n",
    "navidad(10)        \n",
    "                \n",
    "\n"
   ]
  },
  {
   "cell_type": "code",
   "execution_count": 76,
   "metadata": {},
   "outputs": [
    {
     "name": "stdout",
     "output_type": "stream",
     "text": [
      "[1, 5, 7, 2, 3, 4, 6, 2]\n",
      "[1, 2, 2, 3, 4, 5, 6, 7]\n"
     ]
    }
   ],
   "source": [
    "def sortB(my_list):\n",
    "    for j in my_list:\n",
    "        a = my_list\n",
    "        for i in range(len(my_list)):\n",
    "            try:\n",
    "                if my_list[i] > my_list[i + 1]:\n",
    "                    j = my_list[i]\n",
    "                    my_list[i] = my_list[i + 1]\n",
    "                    my_list[i + 1] = j            \n",
    "            except:\n",
    "                i = 0 \n",
    "\n",
    "    \n",
    "\n",
    "    return my_list\n",
    "\n",
    "my_list = [1,5,7,2,3,4,6,2] \n",
    "\n",
    "print(my_list)\n",
    "print(sortB(my_list))"
   ]
  },
  {
   "cell_type": "code",
   "execution_count": 13,
   "metadata": {},
   "outputs": [
    {
     "name": "stdout",
     "output_type": "stream",
     "text": [
      "100\n",
      "92\n",
      "84\n",
      "76\n",
      "68\n",
      "60\n",
      "52\n",
      "44\n",
      "36\n",
      "28\n",
      "20\n",
      "12\n",
      "4\n"
     ]
    }
   ],
   "source": [
    "x = 100\n",
    "while x > 0:\n",
    "    print(x)\n",
    "    x -= 8 "
   ]
  },
  {
   "cell_type": "code",
   "execution_count": 77,
   "metadata": {},
   "outputs": [
    {
     "name": "stdout",
     "output_type": "stream",
     "text": [
      "0 8\n",
      "1 7\n",
      "None\n",
      "2 7\n",
      "None\n",
      "3 7\n",
      "None\n",
      "4 7\n",
      "None\n",
      "5 7\n",
      "None\n",
      "6 7\n",
      "None\n"
     ]
    }
   ],
   "source": [
    "def divide_array(my_list, num):\n",
    "    main_list = []\n",
    "    index_my_list = len(my_list)       \n",
    "    alfa = int(index_my_list / num)\n",
    "    aux = []\n",
    "    cont = 0 \n",
    "    \n",
    "\n",
    "    for i in range(num):\n",
    "        print(i, index_my_list - cont)\n",
    "        \n",
    "        if (len(main_list) - cont) < len(main_list) :            \n",
    "            print(main_list.append(my_list[i:-1]))\n",
    "        else:\n",
    "            main_list.append(aux)\n",
    "\n",
    "        cont =+ 1\n",
    "\n",
    "\n",
    "\n",
    "\n",
    "\n",
    "my_list = [1, 3, 4, 5, 6, 7, 8, 10]\n",
    "\n",
    "divide_array(my_list, 7)"
   ]
  },
  {
   "cell_type": "code",
   "execution_count": 83,
   "metadata": {},
   "outputs": [
    {
     "data": {
      "text/plain": [
       "'Palabra Palabra Palabra Palabra Palabra Palabra Palabra '"
      ]
     },
     "execution_count": 83,
     "metadata": {},
     "output_type": "execute_result"
    }
   ],
   "source": [
    "def repite(palabra, num):    \n",
    "    aux = ''\n",
    "    for i in range(num):    \n",
    "        aux += palabra\n",
    "    \n",
    "    return aux\n",
    "\n",
    "\n",
    "repite('Palabra ', 7)"
   ]
  },
  {
   "cell_type": "code",
   "execution_count": 96,
   "metadata": {},
   "outputs": [
    {
     "name": "stdout",
     "output_type": "stream",
     "text": [
      "a 5\n",
      "{'e': 3, 's': 4, 't': 1, 'o': 2, ' ': 2, 'n': 2, 'm': 2, 'a': 5, 'q': 1, 'u': 2, 'b': 1, 'r': 2, 'i': 1}\n"
     ]
    }
   ],
   "source": [
    "def masUsado(palabra):\n",
    "    my_dict = {}\n",
    "    \n",
    "    for i in palabra:\n",
    "        if i in my_dict:\n",
    "            my_dict[i] += 1\n",
    "        else:\n",
    "            my_dict[i] = 1\n",
    "    cont = 0\n",
    "    index = ''\n",
    "    for x, y in my_dict.items() :\n",
    "        if y > cont:\n",
    "            index = x\n",
    "            cont = y\n",
    "    \n",
    "    print(index, cont)\n",
    "\n",
    "\n",
    "    return my_dict\n",
    "\n",
    "\n",
    "\n",
    "resultado =  masUsado('esto noesmasquebasura marina')\n",
    "print(resultado)"
   ]
  },
  {
   "cell_type": "code",
   "execution_count": null,
   "metadata": {},
   "outputs": [],
   "source": []
  }
 ],
 "metadata": {
  "kernelspec": {
   "display_name": "prony-sys",
   "language": "python",
   "name": "python3"
  },
  "language_info": {
   "codemirror_mode": {
    "name": "ipython",
    "version": 3
   },
   "file_extension": ".py",
   "mimetype": "text/x-python",
   "name": "python",
   "nbconvert_exporter": "python",
   "pygments_lexer": "ipython3",
   "version": "3.10.13"
  },
  "orig_nbformat": 4
 },
 "nbformat": 4,
 "nbformat_minor": 2
}
